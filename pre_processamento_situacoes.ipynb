{
 "cells": [
  {
   "cell_type": "markdown",
   "id": "7d3e6c72",
   "metadata": {},
   "source": [
    "# Projeto: Análise de Situação Discente com Aprendizado de Máquina\n",
    "Este notebook tem como objetivo realizar o pré-processamento de uma base de dados de situações discentes para aplicação de modelos de Aprendizado de Máquina."
   ]
  },
  {
   "cell_type": "code",
   "execution_count": null,
   "id": "cd7a2aea",
   "metadata": {},
   "outputs": [],
   "source": [
    "import pandas as pd\n",
    "from sklearn.model_selection import train_test_split\n",
    "\n",
    "file_path = \"situacoes-discentes-2024.1.man\"\n",
    "\n",
    "df = pd.read_csv(file_path, sep=\";\", encoding=\"utf-8\")\n",
    "df.head()"
   ]
  },
  {
   "cell_type": "code",
   "execution_count": null,
   "id": "973a71cb",
   "metadata": {},
   "outputs": [],
   "source": [
    "# Remover duplicatas\n",
    "df = df.drop_duplicates()\n",
    "\n",
    "# Converter a coluna de data\n",
    "df[\"data_alteracao_situacao\"] = pd.to_datetime(df[\"data_alteracao_situacao\"], errors=\"coerce\")\n"
   ]
  },
  {
   "cell_type": "code",
   "execution_count": null,
   "id": "4b97de81",
   "metadata": {},
   "outputs": [],
   "source": [
    "# Ordenar por data e manter o último registro de cada discente\n",
    "df_latest = df.sort_values(\"data_alteracao_situacao\").drop_duplicates(\"id_discente\", keep=\"last\")"
   ]
  },
  {
   "cell_type": "code",
   "execution_count": null,
   "id": "e1fb002b",
   "metadata": {},
   "outputs": [],
   "source": [
    "# Criar coluna com diferença de anos\n",
    "df_latest[\"ano_diferenca\"] = df_latest[\"ano_alteracao_situacao\"] - df_latest[\"ano_ingresso\"]"
   ]
  }
 ],
 "metadata": {
  "language_info": {
   "name": "python"
  }
 },
 "nbformat": 4,
 "nbformat_minor": 5
}
